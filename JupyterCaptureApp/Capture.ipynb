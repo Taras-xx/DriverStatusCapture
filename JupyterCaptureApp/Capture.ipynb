{
 "cells": [
  {
   "cell_type": "code",
   "execution_count": 5,
   "id": "b3265e7b-4276-4e58-9f6a-75c5ee8bb8c8",
   "metadata": {
    "tags": []
   },
   "outputs": [],
   "source": [
    "import cv2\n",
    "import os\n",
    "import time\n",
    "import uuid"
   ]
  },
  {
   "cell_type": "code",
   "execution_count": 3,
   "id": "8d75fe0f-e2f6-4a16-bafb-6b731130b22d",
   "metadata": {},
   "outputs": [
    {
     "ename": "NameError",
     "evalue": "name 'os' is not defined",
     "output_type": "error",
     "traceback": [
      "\u001b[1;31m---------------------------------------------------------------------------\u001b[0m",
      "\u001b[1;31mNameError\u001b[0m                                 Traceback (most recent call last)",
      "Cell \u001b[1;32mIn[3], line 2\u001b[0m\n\u001b[0;32m      1\u001b[0m main_folder_path \u001b[38;5;241m=\u001b[39m \u001b[38;5;124m'\u001b[39m\u001b[38;5;124mZbior_zdj\u001b[39m\u001b[38;5;124m'\u001b[39m\n\u001b[1;32m----> 2\u001b[0m \u001b[38;5;28;01mif\u001b[39;00m \u001b[38;5;129;01mnot\u001b[39;00m os\u001b[38;5;241m.\u001b[39mpath\u001b[38;5;241m.\u001b[39mexists(main_folder_path):\n\u001b[0;32m      3\u001b[0m     os\u001b[38;5;241m.\u001b[39mmakedirs(main_folder_path)\n\u001b[0;32m      4\u001b[0m     \u001b[38;5;28mprint\u001b[39m(\u001b[38;5;124m\"\u001b[39m\u001b[38;5;124mnowy folder\u001b[39m\u001b[38;5;124m\"\u001b[39m)\n",
      "\u001b[1;31mNameError\u001b[0m: name 'os' is not defined"
     ]
    }
   ],
   "source": [
    "main_folder_path = 'Zbior_zdj'\n",
    "if not os.path.exists(main_folder_path):\n",
    "    os.makedirs(main_folder_path)\n",
    "    print(\"nowy folder\")"
   ]
  },
  {
   "cell_type": "markdown",
   "id": "cbd7f13f-f61b-47f7-825e-1fa1ef0833e3",
   "metadata": {},
   "source": [
    "Select the class and the quantity of photos you want to capture:"
   ]
  },
  {
   "cell_type": "code",
   "execution_count": 4,
   "id": "55509763-c14c-45bc-911a-5c490f0c4eab",
   "metadata": {
    "tags": []
   },
   "outputs": [],
   "source": [
    "class_name = \"Senny\"\n",
    "num_img = 200\n",
    "num_img_per_sec = 5"
   ]
  },
  {
   "cell_type": "code",
   "execution_count": 47,
   "id": "d4300f24-4ca1-4b73-951d-bcf5d7c65e9d",
   "metadata": {
    "tags": []
   },
   "outputs": [],
   "source": [
    "class_name = \"Telefon_right_hand\"\n",
    "num_img = 200\n",
    "num_img_per_sec = 5"
   ]
  },
  {
   "cell_type": "code",
   "execution_count": 64,
   "id": "2b09095a-9493-46b7-a59d-899a1303df6a",
   "metadata": {
    "tags": []
   },
   "outputs": [],
   "source": [
    "class_name = \"Telefon_left_hand\"\n",
    "num_img = 250\n",
    "num_img_per_sec = 5"
   ]
  },
  {
   "cell_type": "code",
   "execution_count": 43,
   "id": "09ff1a4e-86e0-4b99-9281-335d789161a2",
   "metadata": {
    "tags": []
   },
   "outputs": [],
   "source": [
    "class_name = \"Skupiony\"\n",
    "num_img = 150\n",
    "num_img_per_sec = 5"
   ]
  },
  {
   "cell_type": "code",
   "execution_count": 2,
   "id": "43ff6b2b-d985-4fcc-9ec2-898c667d8a0e",
   "metadata": {
    "tags": []
   },
   "outputs": [
    {
     "ename": "NameError",
     "evalue": "name 'cv2' is not defined",
     "output_type": "error",
     "traceback": [
      "\u001b[1;31m---------------------------------------------------------------------------\u001b[0m",
      "\u001b[1;31mNameError\u001b[0m                                 Traceback (most recent call last)",
      "Cell \u001b[1;32mIn[2], line 1\u001b[0m\n\u001b[1;32m----> 1\u001b[0m cap \u001b[38;5;241m=\u001b[39m cv2\u001b[38;5;241m.\u001b[39mVideoCapture(\u001b[38;5;241m1\u001b[39m)\n\u001b[0;32m      3\u001b[0m \u001b[38;5;28mprint\u001b[39m(\u001b[38;5;124m\"\u001b[39m\u001b[38;5;124mzbieranie \u001b[39m\u001b[38;5;132;01m{}\u001b[39;00m\u001b[38;5;124m zdj\u001b[39m\u001b[38;5;124m\"\u001b[39m\u001b[38;5;241m.\u001b[39mformat(num_img))\n\u001b[0;32m      4\u001b[0m delay \u001b[38;5;241m=\u001b[39m \u001b[38;5;241m5\u001b[39m\n",
      "\u001b[1;31mNameError\u001b[0m: name 'cv2' is not defined"
     ]
    }
   ],
   "source": [
    "cap = cv2.VideoCapture(0)\n",
    "speed = 1/num_img_per_sec\n",
    "\n",
    "print(\"zbieranie {} zdj\".format(num_img))\n",
    "delay = 5\n",
    "for t in range(delay):\n",
    "    print('zbieranie zdjęć za {}'.format(delay-t))\n",
    "    time.sleep(1)\n",
    "\n",
    "img_folder = os.path.join(main_folder_path, class_name)\n",
    "\n",
    "if not os.path.exists(img_folder):\n",
    "    os.makedirs(img_folder)\n",
    "    print(\"nowa klasa\") \n",
    "else:\n",
    "    print(\"Taka klasa juz istnieje\")\n",
    "    \n",
    "for num in range(num_img):\n",
    "    ret,frame = cap.read()\n",
    "    print('Collecting images for {}, image number {}'.format(class_name, num))\n",
    "    img_name = os.path.join(img_folder, class_name + '.' + str(uuid.uuid1()) + '.jpg')\n",
    "    cv2.imshow('Captured',frame)\n",
    "    cv2.imwrite(img_name, frame)\n",
    "    time.sleep(speed) \n",
    "    if cv2.waitKey(10) & 0xFF == ord('q'):\n",
    "        break\n",
    "        \n",
    "cap.release()\n",
    "cv2.destroyAllWindows()"
   ]
  },
  {
   "cell_type": "markdown",
   "id": "2e03234f-7cce-45de-94bf-588994ff667e",
   "metadata": {},
   "source": [
    "Use this function if you want to delete all photos in a particular folder:"
   ]
  },
  {
   "cell_type": "code",
   "execution_count": 8,
   "id": "3f3ec24e-8fd3-40bf-9ee7-d057cc61813e",
   "metadata": {
    "tags": []
   },
   "outputs": [
    {
     "name": "stdout",
     "output_type": "stream",
     "text": [
      "Plik Telefon_right_hand.aa564aa3-87e1-11ee-ba12-0456e541e1b8.jpg został pomyślnie usunięty.\n",
      "Plik Telefon_right_hand.aaa89177-87e1-11ee-8426-0456e541e1b8.jpg został pomyślnie usunięty.\n",
      "Plik Telefon_right_hand.aaf8ea95-87e1-11ee-8c83-0456e541e1b8.jpg został pomyślnie usunięty.\n",
      "Plik Telefon_right_hand.ab49c22b-87e1-11ee-83b2-0456e541e1b8.jpg został pomyślnie usunięty.\n",
      "Plik Telefon_right_hand.ab9b2462-87e1-11ee-9517-0456e541e1b8.jpg został pomyślnie usunięty.\n",
      "Plik Telefon_right_hand.abebfd1b-87e1-11ee-81ab-0456e541e1b8.jpg został pomyślnie usunięty.\n",
      "Plik Telefon_right_hand.ac3cab27-87e1-11ee-8b25-0456e541e1b8.jpg został pomyślnie usunięty.\n",
      "Plik Telefon_right_hand.ac8d62a7-87e1-11ee-8c12-0456e541e1b8.jpg został pomyślnie usunięty.\n",
      "Plik Telefon_right_hand.acde8c21-87e1-11ee-90e1-0456e541e1b8.jpg został pomyślnie usunięty.\n",
      "Plik Telefon_right_hand.ad2fd8fa-87e1-11ee-9743-0456e541e1b8.jpg został pomyślnie usunięty.\n",
      "Plik Telefon_right_hand.ad806ce1-87e1-11ee-8c5e-0456e541e1b8.jpg został pomyślnie usunięty.\n",
      "Plik Telefon_right_hand.add1c8bf-87e1-11ee-b4ed-0456e541e1b8.jpg został pomyślnie usunięty.\n",
      "Plik Telefon_right_hand.ae2232c1-87e1-11ee-8685-0456e541e1b8.jpg został pomyślnie usunięty.\n",
      "Plik Telefon_right_hand.ae73367f-87e1-11ee-95d8-0456e541e1b8.jpg został pomyślnie usunięty.\n",
      "Plik Telefon_right_hand.aec45561-87e1-11ee-8181-0456e541e1b8.jpg został pomyślnie usunięty.\n",
      "Plik Telefon_right_hand.af153edd-87e1-11ee-9cec-0456e541e1b8.jpg został pomyślnie usunięty.\n",
      "Plik Telefon_right_hand.af66aa46-87e1-11ee-853d-0456e541e1b8.jpg został pomyślnie usunięty.\n",
      "Plik Telefon_right_hand.afb55299-87e1-11ee-8850-0456e541e1b8.jpg został pomyślnie usunięty.\n",
      "Plik Telefon_right_hand.b005a791-87e1-11ee-b385-0456e541e1b8.jpg został pomyślnie usunięty.\n",
      "Plik Telefon_right_hand.b056c1d4-87e1-11ee-ab06-0456e541e1b8.jpg został pomyślnie usunięty.\n",
      "Plik Telefon_right_hand.b0a5cb96-87e1-11ee-a3f8-0456e541e1b8.jpg został pomyślnie usunięty.\n",
      "Plik Telefon_right_hand.b0f4d981-87e1-11ee-9d2a-0456e541e1b8.jpg został pomyślnie usunięty.\n",
      "Plik Telefon_right_hand.b1466320-87e1-11ee-a75a-0456e541e1b8.jpg został pomyślnie usunięty.\n",
      "Plik Telefon_right_hand.b196e686-87e1-11ee-ab1e-0456e541e1b8.jpg został pomyślnie usunięty.\n",
      "Plik Telefon_right_hand.b1e716c0-87e1-11ee-870f-0456e541e1b8.jpg został pomyślnie usunięty.\n",
      "Plik Telefon_right_hand.b237da59-87e1-11ee-9b0d-0456e541e1b8.jpg został pomyślnie usunięty.\n",
      "Plik Telefon_right_hand.b288b03a-87e1-11ee-a702-0456e541e1b8.jpg został pomyślnie usunięty.\n",
      "Plik Telefon_right_hand.b2d948fd-87e1-11ee-8da0-0456e541e1b8.jpg został pomyślnie usunięty.\n",
      "Plik Telefon_right_hand.b328a5e6-87e1-11ee-871f-0456e541e1b8.jpg został pomyślnie usunięty.\n",
      "Plik Telefon_right_hand.b3793973-87e1-11ee-9cdb-0456e541e1b8.jpg został pomyślnie usunięty.\n",
      "Plik Telefon_right_hand.b3ca1875-87e1-11ee-ad8d-0456e541e1b8.jpg został pomyślnie usunięty.\n",
      "Wszystkie pliki zostały usunięte.\n"
     ]
    }
   ],
   "source": [
    "usun_wszystkie_zdjecia(\"Telefon_right_hand\")"
   ]
  },
  {
   "cell_type": "code",
   "execution_count": 7,
   "id": "1924ab1b-9664-4541-a450-0d0a516fae51",
   "metadata": {
    "tags": []
   },
   "outputs": [],
   "source": [
    "def usun_wszystkie_zdjecia(nazwa_folderu):\n",
    "    sciezka_folderu = os.path.join(main_folder_path, nazwa_folderu)\n",
    "    try:\n",
    "        for plik in os.listdir(sciezka_folderu):\n",
    "            sciezka_do_pliku = os.path.join(sciezka_folderu, plik)\n",
    "            if os.path.isfile(sciezka_do_pliku):\n",
    "                os.remove(sciezka_do_pliku)\n",
    "                print(f\"Plik {plik} został pomyślnie usunięty.\")\n",
    "        print(\"Wszystkie pliki zostały usunięte.\")\n",
    "    except Exception as e:\n",
    "        print(f\"Wystąpił błąd podczas usuwania plików: {e}\")"
   ]
  },
  {
   "cell_type": "code",
   "execution_count": null,
   "id": "bab88d3a-99bb-4bf2-b55d-47ff444307e4",
   "metadata": {},
   "outputs": [],
   "source": []
  }
 ],
 "metadata": {
  "kernelspec": {
   "display_name": "Python 3 (ipykernel)",
   "language": "python",
   "name": "python3"
  },
  "language_info": {
   "codemirror_mode": {
    "name": "ipython",
    "version": 3
   },
   "file_extension": ".py",
   "mimetype": "text/x-python",
   "name": "python",
   "nbconvert_exporter": "python",
   "pygments_lexer": "ipython3",
   "version": "3.11.5"
  }
 },
 "nbformat": 4,
 "nbformat_minor": 5
}
